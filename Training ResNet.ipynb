{
  "nbformat": 4,
  "nbformat_minor": 0,
  "metadata": {
    "colab": {
      "name": "epicrpg.ipynb",
      "provenance": [],
      "collapsed_sections": []
    },
    "kernelspec": {
      "name": "python3",
      "display_name": "Python 3"
    },
    "language_info": {
      "name": "python"
    },
    "accelerator": "GPU"
  },
  "cells": [
    {
      "cell_type": "code",
      "metadata": {
        "id": "dtjTuDNYOpUD"
      },
      "source": [
        "import matplotlib.pyplot as plt\n",
        "import numpy as np\n"
      ],
      "execution_count": null,
      "outputs": []
    },
    {
      "cell_type": "code",
      "metadata": {
        "id": "cvYr7ynIOrgr"
      },
      "source": [
        "import torch\n",
        "from torchvision import transforms, datasets\n",
        "import torch.nn as nn\n",
        "import torch.nn.functional as F\n",
        "from torch.autograd import Variable\n",
        "import torch.optim as optim\n",
        "from torch.optim.lr_scheduler import StepLR\n",
        "h = 200\n",
        "w = 200\n",
        "\n",
        "data_transform = transforms.Compose([transforms.ToTensor(),\n",
        "                                     transforms.Resize((h, w)),\n",
        "                                     transforms.Normalize((0.5,), (0.5,)),\n",
        "                                     transforms.Grayscale(num_output_channels=3)\n",
        "    ])\n",
        "data = datasets.ImageFolder(root='/content/drive/MyDrive/epic/data',\n",
        "                                           transform=data_transform)\n",
        "train, val, test = torch.utils.data.random_split(data, [1910, 547, 272])"
      ],
      "execution_count": null,
      "outputs": []
    },
    {
      "cell_type": "code",
      "metadata": {
        "id": "AeJgtRxnqzBC"
      },
      "source": [
        "train_loader = torch.utils.data.DataLoader(train,\n",
        "                                             batch_size=30, shuffle=True,\n",
        "                                             num_workers=2)\n",
        "val_loader = torch.utils.data.DataLoader(val,\n",
        "                                             batch_size=30, shuffle=True,\n",
        "                                             num_workers=2)\n",
        "test_loader = torch.utils.data.DataLoader(test,\n",
        "                                             batch_size=30, shuffle=True,\n",
        "                                             num_workers=2)"
      ],
      "execution_count": null,
      "outputs": []
    },
    {
      "cell_type": "markdown",
      "metadata": {
        "id": "O6MUp2-fsB5X"
      },
      "source": [
        "###Show a few samples"
      ]
    },
    {
      "cell_type": "code",
      "metadata": {
        "colab": {
          "base_uri": "https://localhost:8080/"
        },
        "id": "-4yCqQR5PHB-",
        "outputId": "e9ab98b5-09ac-4828-a142-f4dcb88ff4e8"
      },
      "source": [
        "print(np.transpose(np.array(data[180][0]),(1,2,0)).shape)"
      ],
      "execution_count": null,
      "outputs": [
        {
          "output_type": "stream",
          "text": [
            "(200, 200, 3)\n"
          ],
          "name": "stdout"
        }
      ]
    },
    {
      "cell_type": "code",
      "metadata": {
        "colab": {
          "base_uri": "https://localhost:8080/",
          "height": 286
        },
        "id": "9I5_xP4Ftdm8",
        "outputId": "09b94676-fe9d-4697-fa13-74f0231c75ea"
      },
      "source": [
        "plt.imshow(np.transpose(np.array(data[499][0]),(1,2,0)))"
      ],
      "execution_count": null,
      "outputs": [
        {
          "output_type": "execute_result",
          "data": {
            "text/plain": [
              "<matplotlib.image.AxesImage at 0x7f5b75e08950>"
            ]
          },
          "metadata": {
            "tags": []
          },
          "execution_count": 47
        },
        {
          "output_type": "display_data",
          "data": {
            "image/png": "[encoded data removed]",
            "text/plain": [
              "<Figure size 432x288 with 1 Axes>"
            ]
          },
          "metadata": {
            "tags": [],
            "needs_background": "light"
          }
        }
      ]
    },
    {
      "cell_type": "code",
      "metadata": {
        "colab": {
          "base_uri": "https://localhost:8080/",
          "height": 252
        },
        "id": "xvpAWgtzqDSU",
        "outputId": "ab32e86a-8c47-4f5c-cc77-b0b86d7a0f93"
      },
      "source": [
        "labels_map = {\n",
        "    0: \"apple\",\n",
        "    1: \"banana\",\n",
        "    2: \"chip\",\n",
        "    3: \"coin\",\n",
        "    4: \"epic coin\",\n",
        "    5: \"epic fish\",\n",
        "    6: \"zombie eye\",\n",
        "    7: \"fish\",\n",
        "    8: \"life potion\",\n",
        "    9: \"mermaid\",\n",
        "    10: \"dragon scale\",\n",
        "    11:\"ruby\",\n",
        "    12:\"unicorn\",\n",
        "    13:\"wolf skin\"\n",
        "}\n",
        "training_data = train\n",
        "figure = plt.figure(figsize=(8, 8))\n",
        "cols, rows = 3, 3\n",
        "for i in range(1, cols * rows + 1):\n",
        "    sample_idx = torch.randint(len(training_data), size=(1,)).item()\n",
        "    img, label = training_data[sample_idx]\n",
        "    figure.add_subplot(rows, cols, i)\n",
        "    plt.title(labels_map[label])\n",
        "    plt.axis(\"off\")\n",
        "    plt.imshow(np.transpose(np.array(train[sample_idx][0]),(1,2,0)))\n",
        "plt.show()"
      ],
      "execution_count": null,
      "outputs": [
        {
          "output_type": "error",
          "ename": "TypeError",
          "evalue": "ignored",
          "traceback": [
            "\u001b[0;31m---------------------------------------------------------------------------\u001b[0m",
            "\u001b[0;31mTypeError\u001b[0m                                 Traceback (most recent call last)",
            "\u001b[0;32m<ipython-input-74-d4a2902bf5e2>\u001b[0m in \u001b[0;36m<module>\u001b[0;34m()\u001b[0m\n\u001b[1;32m     19\u001b[0m \u001b[0mcols\u001b[0m\u001b[0;34m,\u001b[0m \u001b[0mrows\u001b[0m \u001b[0;34m=\u001b[0m \u001b[0;36m3\u001b[0m\u001b[0;34m,\u001b[0m \u001b[0;36m3\u001b[0m\u001b[0;34m\u001b[0m\u001b[0;34m\u001b[0m\u001b[0m\n\u001b[1;32m     20\u001b[0m \u001b[0;32mfor\u001b[0m \u001b[0mi\u001b[0m \u001b[0;32min\u001b[0m \u001b[0mrange\u001b[0m\u001b[0;34m(\u001b[0m\u001b[0;36m1\u001b[0m\u001b[0;34m,\u001b[0m \u001b[0mcols\u001b[0m \u001b[0;34m*\u001b[0m \u001b[0mrows\u001b[0m \u001b[0;34m+\u001b[0m \u001b[0;36m1\u001b[0m\u001b[0;34m)\u001b[0m\u001b[0;34m:\u001b[0m\u001b[0;34m\u001b[0m\u001b[0;34m\u001b[0m\u001b[0m\n\u001b[0;32m---> 21\u001b[0;31m     \u001b[0msample_idx\u001b[0m \u001b[0;34m=\u001b[0m \u001b[0mtorch\u001b[0m\u001b[0;34m.\u001b[0m\u001b[0mrandint\u001b[0m\u001b[0;34m(\u001b[0m\u001b[0mlen\u001b[0m\u001b[0;34m(\u001b[0m\u001b[0mtraining_data\u001b[0m\u001b[0;34m)\u001b[0m\u001b[0;34m,\u001b[0m \u001b[0msize\u001b[0m\u001b[0;34m=\u001b[0m\u001b[0;34m(\u001b[0m\u001b[0;36m1\u001b[0m\u001b[0;34m,\u001b[0m\u001b[0;34m)\u001b[0m\u001b[0;34m)\u001b[0m\u001b[0;34m.\u001b[0m\u001b[0mitem\u001b[0m\u001b[0;34m(\u001b[0m\u001b[0;34m)\u001b[0m\u001b[0;34m\u001b[0m\u001b[0;34m\u001b[0m\u001b[0m\n\u001b[0m\u001b[1;32m     22\u001b[0m     \u001b[0mimg\u001b[0m\u001b[0;34m,\u001b[0m \u001b[0mlabel\u001b[0m \u001b[0;34m=\u001b[0m \u001b[0mtraining_data\u001b[0m\u001b[0;34m[\u001b[0m\u001b[0msample_idx\u001b[0m\u001b[0;34m]\u001b[0m\u001b[0;34m\u001b[0m\u001b[0;34m\u001b[0m\u001b[0m\n\u001b[1;32m     23\u001b[0m     \u001b[0mfigure\u001b[0m\u001b[0;34m.\u001b[0m\u001b[0madd_subplot\u001b[0m\u001b[0;34m(\u001b[0m\u001b[0mrows\u001b[0m\u001b[0;34m,\u001b[0m \u001b[0mcols\u001b[0m\u001b[0;34m,\u001b[0m \u001b[0mi\u001b[0m\u001b[0;34m)\u001b[0m\u001b[0;34m\u001b[0m\u001b[0;34m\u001b[0m\u001b[0m\n",
            "\u001b[0;31mTypeError\u001b[0m: object of type 'function' has no len()"
          ]
        },
        {
          "output_type": "display_data",
          "data": {
            "text/plain": [
              "<Figure size 576x576 with 0 Axes>"
            ]
          },
          "metadata": {
            "tags": []
          }
        }
      ]
    },
    {
      "cell_type": "code",
      "metadata": {
        "id": "5OyNpnmu2dhw"
      },
      "source": [
        ""
      ],
      "execution_count": null,
      "outputs": []
    },
    {
      "cell_type": "code",
      "metadata": {
        "id": "tUDu_5Z-IBmw"
      },
      "source": [
        ""
      ],
      "execution_count": null,
      "outputs": []
    },
    {
      "cell_type": "markdown",
      "metadata": {
        "id": "mKqqo3mzjJxT"
      },
      "source": [
        "###Start training"
      ]
    },
    {
      "cell_type": "code",
      "metadata": {
        "id": "tltVrk2mIU5b"
      },
      "source": [
        "\n",
        "lr = 1.0\n",
        "gamma = 0.7\n",
        "seed = 389\n",
        "log_interval = 10\n",
        "save_model = True\n",
        "use_cuda = torch.cuda.is_available()\n",
        "torch.manual_seed(seed)\n",
        "device = torch.device(\"cuda\" if use_cuda else \"cpu\")"
      ],
      "execution_count": null,
      "outputs": []
    },
    {
      "cell_type": "code",
      "metadata": {
        "colab": {
          "base_uri": "https://localhost:8080/"
        },
        "id": "zTcN_FQhNSrP",
        "outputId": "d593de83-530f-4fe3-abe2-1a25c003a0c9"
      },
      "source": [
        "from torchvision.models import resnet18\n",
        "from torch import nn\n",
        "model = resnet18(num_classes=14) # MNIST has 10 classes\n",
        "model.to(device)\n",
        "model"
      ],
      "execution_count": null,
      "outputs": [
        {
          "output_type": "execute_result",
          "data": {
            "text/plain": [
              "ResNet(\n",
              "  (conv1): Conv2d(3, 64, kernel_size=(7, 7), stride=(2, 2), padding=(3, 3), bias=False)\n",
              "  (bn1): BatchNorm2d(64, eps=1e-05, momentum=0.1, affine=True, track_running_stats=True)\n",
              "  (relu): ReLU(inplace=True)\n",
              "  (maxpool): MaxPool2d(kernel_size=3, stride=2, padding=1, dilation=1, ceil_mode=False)\n",
              "  (layer1): Sequential(\n",
              "    (0): BasicBlock(\n",
              "      (conv1): Conv2d(64, 64, kernel_size=(3, 3), stride=(1, 1), padding=(1, 1), bias=False)\n",
              "      (bn1): BatchNorm2d(64, eps=1e-05, momentum=0.1, affine=True, track_running_stats=True)\n",
              "      (relu): ReLU(inplace=True)\n",
              "      (conv2): Conv2d(64, 64, kernel_size=(3, 3), stride=(1, 1), padding=(1, 1), bias=False)\n",
              "      (bn2): BatchNorm2d(64, eps=1e-05, momentum=0.1, affine=True, track_running_stats=True)\n",
              "    )\n",
              "    (1): BasicBlock(\n",
              "      (conv1): Conv2d(64, 64, kernel_size=(3, 3), stride=(1, 1), padding=(1, 1), bias=False)\n",
              "      (bn1): BatchNorm2d(64, eps=1e-05, momentum=0.1, affine=True, track_running_stats=True)\n",
              "      (relu): ReLU(inplace=True)\n",
              "      (conv2): Conv2d(64, 64, kernel_size=(3, 3), stride=(1, 1), padding=(1, 1), bias=False)\n",
              "      (bn2): BatchNorm2d(64, eps=1e-05, momentum=0.1, affine=True, track_running_stats=True)\n",
              "    )\n",
              "  )\n",
              "  (layer2): Sequential(\n",
              "    (0): BasicBlock(\n",
              "      (conv1): Conv2d(64, 128, kernel_size=(3, 3), stride=(2, 2), padding=(1, 1), bias=False)\n",
              "      (bn1): BatchNorm2d(128, eps=1e-05, momentum=0.1, affine=True, track_running_stats=True)\n",
              "      (relu): ReLU(inplace=True)\n",
              "      (conv2): Conv2d(128, 128, kernel_size=(3, 3), stride=(1, 1), padding=(1, 1), bias=False)\n",
              "      (bn2): BatchNorm2d(128, eps=1e-05, momentum=0.1, affine=True, track_running_stats=True)\n",
              "      (downsample): Sequential(\n",
              "        (0): Conv2d(64, 128, kernel_size=(1, 1), stride=(2, 2), bias=False)\n",
              "        (1): BatchNorm2d(128, eps=1e-05, momentum=0.1, affine=True, track_running_stats=True)\n",
              "      )\n",
              "    )\n",
              "    (1): BasicBlock(\n",
              "      (conv1): Conv2d(128, 128, kernel_size=(3, 3), stride=(1, 1), padding=(1, 1), bias=False)\n",
              "      (bn1): BatchNorm2d(128, eps=1e-05, momentum=0.1, affine=True, track_running_stats=True)\n",
              "      (relu): ReLU(inplace=True)\n",
              "      (conv2): Conv2d(128, 128, kernel_size=(3, 3), stride=(1, 1), padding=(1, 1), bias=False)\n",
              "      (bn2): BatchNorm2d(128, eps=1e-05, momentum=0.1, affine=True, track_running_stats=True)\n",
              "    )\n",
              "  )\n",
              "  (layer3): Sequential(\n",
              "    (0): BasicBlock(\n",
              "      (conv1): Conv2d(128, 256, kernel_size=(3, 3), stride=(2, 2), padding=(1, 1), bias=False)\n",
              "      (bn1): BatchNorm2d(256, eps=1e-05, momentum=0.1, affine=True, track_running_stats=True)\n",
              "      (relu): ReLU(inplace=True)\n",
              "      (conv2): Conv2d(256, 256, kernel_size=(3, 3), stride=(1, 1), padding=(1, 1), bias=False)\n",
              "      (bn2): BatchNorm2d(256, eps=1e-05, momentum=0.1, affine=True, track_running_stats=True)\n",
              "      (downsample): Sequential(\n",
              "        (0): Conv2d(128, 256, kernel_size=(1, 1), stride=(2, 2), bias=False)\n",
              "        (1): BatchNorm2d(256, eps=1e-05, momentum=0.1, affine=True, track_running_stats=True)\n",
              "      )\n",
              "    )\n",
              "    (1): BasicBlock(\n",
              "      (conv1): Conv2d(256, 256, kernel_size=(3, 3), stride=(1, 1), padding=(1, 1), bias=False)\n",
              "      (bn1): BatchNorm2d(256, eps=1e-05, momentum=0.1, affine=True, track_running_stats=True)\n",
              "      (relu): ReLU(inplace=True)\n",
              "      (conv2): Conv2d(256, 256, kernel_size=(3, 3), stride=(1, 1), padding=(1, 1), bias=False)\n",
              "      (bn2): BatchNorm2d(256, eps=1e-05, momentum=0.1, affine=True, track_running_stats=True)\n",
              "    )\n",
              "  )\n",
              "  (layer4): Sequential(\n",
              "    (0): BasicBlock(\n",
              "      (conv1): Conv2d(256, 512, kernel_size=(3, 3), stride=(2, 2), padding=(1, 1), bias=False)\n",
              "      (bn1): BatchNorm2d(512, eps=1e-05, momentum=0.1, affine=True, track_running_stats=True)\n",
              "      (relu): ReLU(inplace=True)\n",
              "      (conv2): Conv2d(512, 512, kernel_size=(3, 3), stride=(1, 1), padding=(1, 1), bias=False)\n",
              "      (bn2): BatchNorm2d(512, eps=1e-05, momentum=0.1, affine=True, track_running_stats=True)\n",
              "      (downsample): Sequential(\n",
              "        (0): Conv2d(256, 512, kernel_size=(1, 1), stride=(2, 2), bias=False)\n",
              "        (1): BatchNorm2d(512, eps=1e-05, momentum=0.1, affine=True, track_running_stats=True)\n",
              "      )\n",
              "    )\n",
              "    (1): BasicBlock(\n",
              "      (conv1): Conv2d(512, 512, kernel_size=(3, 3), stride=(1, 1), padding=(1, 1), bias=False)\n",
              "      (bn1): BatchNorm2d(512, eps=1e-05, momentum=0.1, affine=True, track_running_stats=True)\n",
              "      (relu): ReLU(inplace=True)\n",
              "      (conv2): Conv2d(512, 512, kernel_size=(3, 3), stride=(1, 1), padding=(1, 1), bias=False)\n",
              "      (bn2): BatchNorm2d(512, eps=1e-05, momentum=0.1, affine=True, track_running_stats=True)\n",
              "    )\n",
              "  )\n",
              "  (avgpool): AdaptiveAvgPool2d(output_size=(1, 1))\n",
              "  (fc): Linear(in_features=512, out_features=14, bias=True)\n",
              ")"
            ]
          },
          "metadata": {
            "tags": []
          },
          "execution_count": 15
        }
      ]
    },
    {
      "cell_type": "code",
      "metadata": {
        "colab": {
          "base_uri": "https://localhost:8080/"
        },
        "id": "HiIniJXDKkbk",
        "outputId": "8d61b952-6079-4e5b-c2e1-322763e7dc42"
      },
      "source": [
        "from torchvision.models import resnet18\n",
        "from torch import nn\n",
        "# Optimizer \n",
        "optimizer = optim.Adadelta(model.parameters(), lr=lr)\n",
        "scheduler = StepLR(optimizer, step_size=1, gamma=gamma)\n",
        "\n",
        "def train(model, device, train_loader, optimizer, epoch, log_interval):\n",
        "    model.train()\n",
        "    loss_list_per_epoch = []\n",
        "    for batch_idx, (data, target) in enumerate(train_loader):\n",
        "        \n",
        "        \n",
        "        data, target = data.to(device), target.to(device)\n",
        "        x_train = data\n",
        "        #print(\"batch size:\",batch_size)\n",
        "        # reshape data to be of shape batchsize \\times 784 #  \n",
        "        # ------------------------------------------------ # \n",
        "        #                                                  #\n",
        "        # ------------------------------------------------ # \n",
        "        #print(\"data shape:\",data.size())\n",
        "\n",
        "        # set the gradients to zero to avoid unwanted gradient accumulation, see \n",
        "        optimizer.zero_grad()\n",
        "        # https://stackoverflow.com/questions/48001598/why-do-we-need-to-call-zero-grad-in-pytorch\n",
        "        \n",
        "        # get model prediction\n",
        "        y_pred = model(x_train)\n",
        "        \n",
        "        # insert you own loss fucntion here, note that we implemented a log_softmax() in our model\n",
        "        # Can you directly use F.cross_entropy() here? If not, why? \n",
        "        \n",
        "        # Since log is applied to the softmax output, we cannot directly use cross entropy here\n",
        "        # because F.cross_entropy() is supposed to receive raw model outputs and output CE loss. \n",
        "        \n",
        "        #criterion = torch.nn.NLLLoss()\n",
        "        criterion = torch.nn.CrossEntropyLoss()\n",
        "        #print(\"y_pred:\",y_pred)\n",
        "        #print(\"target:\",target)\n",
        "        \n",
        "        \n",
        "        loss = criterion(y_pred, target)\n",
        "\n",
        "        # perform back propagation\n",
        "        loss.backward()\n",
        "        # update parameters\n",
        "        optimizer.step()\n",
        "        \n",
        "        if batch_idx % log_interval == 0:\n",
        "            print('Train Epoch: {} [{}/{} ({:.0f}%)]\\tLoss: {:.6f}'.format(\n",
        "                epoch, batch_idx * len(data), len(train_loader.dataset),\n",
        "                100. * batch_idx / len(train_loader), loss.item()))\n",
        "        loss_list_per_epoch.append(loss.data)\n",
        "\n",
        "    return loss_list_per_epoch\n",
        "def test(model, device, test_loader):\n",
        "    model.eval()\n",
        "    test_loss = 0\n",
        "    correct = 0\n",
        "    with torch.no_grad():\n",
        "        for data, target in test_loader:\n",
        "            data, target = data.to(device), target.to(device)\n",
        "            batch_size = data.size()[0]\n",
        "            y_pred = model(data)\n",
        "            criterion = torch.nn.NLLLoss()\n",
        "            loss = criterion(y_pred, target) \n",
        "            test_loss += loss\n",
        "            #print(np.array(target))\n",
        "            #print(np.array(np.argmax(y_pred,axis=1)))\n",
        "            #print(np.sum(np.array(np.argmax(y_pred,axis=1))==np.array(target)))\n",
        "            y_pred = y_pred.cpu()\n",
        "            target = target.cpu()\n",
        "            correct += np.sum(np.array(np.argmax(y_pred,axis=1))==np.array(target))\n",
        "            #print(np.array(target)==np.array(np.argmax(y_pred,axis=1))\n",
        "        # ------------------------------------------------ # \n",
        "        #                                                  #\n",
        "        # ------------------------------------------------ #             \n",
        "    test_loss /= len(test_loader.dataset)\n",
        "\n",
        "    print('\\nTest set: Average loss: {:.4f}, Accuracy: {}/{} ({:.0f}%)\\n'.format(\n",
        "        test_loss, correct, len(test_loader.dataset),\n",
        "        100. * correct / len(test_loader.dataset)))\n",
        "    return test_loss, 100. * correct / len(test_loader.dataset)\n",
        "#  Let's start training\n",
        "loss_list = []\n",
        "val_accuracy_list = []\n",
        "epochs = 20\n",
        "losss = []\n",
        "for epoch in range(1, epochs + 1):\n",
        "    # train\n",
        "    print(\"epoch:\",epoch)\n",
        "    loss_list_per_epoch = train(model, device, train_loader, optimizer, epoch, log_interval)\n",
        "    # inference on validation set \n",
        "    validation_loss, validation_accuracy = test(model, device, val_loader)\n",
        "    scheduler.step()\n",
        "    # log loss and acc\n",
        "    loss_list += loss_list_per_epoch\n",
        "    val_accuracy_list.append(validation_accuracy)\n",
        "    losss.append(validation_loss)\n",
        "\n",
        "    \n",
        "if save_model:\n",
        "    torch.save(model.state_dict(), \"/content/drive/MyDrive/epic/epic_resnet18.pt\")\n",
        "    # accually you can choose to save the model parameters with the highest \n",
        "    # validation accuracy : )"
      ],
      "execution_count": null,
      "outputs": [
        {
          "output_type": "stream",
          "text": [
            "epoch: 1\n",
            "Train Epoch: 1 [0/1910 (0%)]\tLoss: 2.783826\n",
            "Train Epoch: 1 [300/1910 (16%)]\tLoss: 2.817079\n",
            "Train Epoch: 1 [600/1910 (31%)]\tLoss: 2.665967\n",
            "Train Epoch: 1 [900/1910 (47%)]\tLoss: 2.624697\n",
            "Train Epoch: 1 [1200/1910 (62%)]\tLoss: 2.155020\n",
            "Train Epoch: 1 [1500/1910 (78%)]\tLoss: 2.001821\n",
            "Train Epoch: 1 [1800/1910 (94%)]\tLoss: 1.959012\n",
            "\n",
            "Test set: Average loss: -0.0348, Accuracy: 53/547 (10%)\n",
            "\n",
            "epoch: 2\n",
            "Train Epoch: 2 [0/1910 (0%)]\tLoss: 2.000205\n",
            "Train Epoch: 2 [300/1910 (16%)]\tLoss: 1.679961\n",
            "Train Epoch: 2 [600/1910 (31%)]\tLoss: 1.832943\n",
            "Train Epoch: 2 [900/1910 (47%)]\tLoss: 1.546590\n",
            "Train Epoch: 2 [1200/1910 (62%)]\tLoss: 1.571516\n",
            "Train Epoch: 2 [1500/1910 (78%)]\tLoss: 1.496862\n",
            "Train Epoch: 2 [1800/1910 (94%)]\tLoss: 1.027368\n",
            "\n",
            "Test set: Average loss: -0.0939, Accuracy: 173/547 (32%)\n",
            "\n",
            "epoch: 3\n",
            "Train Epoch: 3 [0/1910 (0%)]\tLoss: 1.878202\n",
            "Train Epoch: 3 [300/1910 (16%)]\tLoss: 1.791109\n",
            "Train Epoch: 3 [600/1910 (31%)]\tLoss: 0.933718\n",
            "Train Epoch: 3 [900/1910 (47%)]\tLoss: 0.947914\n",
            "Train Epoch: 3 [1200/1910 (62%)]\tLoss: 0.571798\n",
            "Train Epoch: 3 [1500/1910 (78%)]\tLoss: 0.629354\n",
            "Train Epoch: 3 [1800/1910 (94%)]\tLoss: 0.416863\n",
            "\n",
            "Test set: Average loss: -0.1740, Accuracy: 329/547 (60%)\n",
            "\n",
            "epoch: 4\n",
            "Train Epoch: 4 [0/1910 (0%)]\tLoss: 0.264709\n",
            "Train Epoch: 4 [300/1910 (16%)]\tLoss: 0.548782\n",
            "Train Epoch: 4 [600/1910 (31%)]\tLoss: 0.156301\n",
            "Train Epoch: 4 [900/1910 (47%)]\tLoss: 0.224968\n",
            "Train Epoch: 4 [1200/1910 (62%)]\tLoss: 0.143022\n",
            "Train Epoch: 4 [1500/1910 (78%)]\tLoss: 0.184740\n",
            "Train Epoch: 4 [1800/1910 (94%)]\tLoss: 0.195763\n",
            "\n",
            "Test set: Average loss: -0.2191, Accuracy: 524/547 (96%)\n",
            "\n",
            "epoch: 5\n",
            "Train Epoch: 5 [0/1910 (0%)]\tLoss: 0.085241\n",
            "Train Epoch: 5 [300/1910 (16%)]\tLoss: 0.063857\n",
            "Train Epoch: 5 [600/1910 (31%)]\tLoss: 0.228984\n",
            "Train Epoch: 5 [900/1910 (47%)]\tLoss: 0.200143\n",
            "Train Epoch: 5 [1200/1910 (62%)]\tLoss: 0.106837\n",
            "Train Epoch: 5 [1500/1910 (78%)]\tLoss: 0.088465\n",
            "Train Epoch: 5 [1800/1910 (94%)]\tLoss: 0.045970\n",
            "\n",
            "Test set: Average loss: -0.1653, Accuracy: 223/547 (41%)\n",
            "\n",
            "epoch: 6\n",
            "Train Epoch: 6 [0/1910 (0%)]\tLoss: 0.094449\n",
            "Train Epoch: 6 [300/1910 (16%)]\tLoss: 0.045201\n",
            "Train Epoch: 6 [600/1910 (31%)]\tLoss: 0.086916\n",
            "Train Epoch: 6 [900/1910 (47%)]\tLoss: 0.066122\n",
            "Train Epoch: 6 [1200/1910 (62%)]\tLoss: 0.029201\n",
            "Train Epoch: 6 [1500/1910 (78%)]\tLoss: 0.077637\n",
            "Train Epoch: 6 [1800/1910 (94%)]\tLoss: 0.082990\n",
            "\n",
            "Test set: Average loss: -0.1821, Accuracy: 382/547 (70%)\n",
            "\n",
            "epoch: 7\n",
            "Train Epoch: 7 [0/1910 (0%)]\tLoss: 0.047279\n",
            "Train Epoch: 7 [300/1910 (16%)]\tLoss: 0.018118\n",
            "Train Epoch: 7 [600/1910 (31%)]\tLoss: 0.015338\n",
            "Train Epoch: 7 [900/1910 (47%)]\tLoss: 0.029835\n",
            "Train Epoch: 7 [1200/1910 (62%)]\tLoss: 0.044172\n",
            "Train Epoch: 7 [1500/1910 (78%)]\tLoss: 0.020917\n",
            "Train Epoch: 7 [1800/1910 (94%)]\tLoss: 0.015098\n",
            "\n",
            "Test set: Average loss: -0.1316, Accuracy: 101/547 (18%)\n",
            "\n",
            "epoch: 8\n",
            "Train Epoch: 8 [0/1910 (0%)]\tLoss: 0.104945\n",
            "Train Epoch: 8 [300/1910 (16%)]\tLoss: 0.041953\n",
            "Train Epoch: 8 [600/1910 (31%)]\tLoss: 0.030239\n",
            "Train Epoch: 8 [900/1910 (47%)]\tLoss: 0.309628\n",
            "Train Epoch: 8 [1200/1910 (62%)]\tLoss: 0.039698\n",
            "Train Epoch: 8 [1500/1910 (78%)]\tLoss: 0.045562\n",
            "Train Epoch: 8 [1800/1910 (94%)]\tLoss: 0.010309\n",
            "\n",
            "Test set: Average loss: -0.2766, Accuracy: 541/547 (99%)\n",
            "\n",
            "epoch: 9\n",
            "Train Epoch: 9 [0/1910 (0%)]\tLoss: 0.008841\n",
            "Train Epoch: 9 [300/1910 (16%)]\tLoss: 0.028712\n",
            "Train Epoch: 9 [600/1910 (31%)]\tLoss: 0.026521\n",
            "Train Epoch: 9 [900/1910 (47%)]\tLoss: 0.016833\n",
            "Train Epoch: 9 [1200/1910 (62%)]\tLoss: 0.036542\n",
            "Train Epoch: 9 [1500/1910 (78%)]\tLoss: 0.011418\n",
            "Train Epoch: 9 [1800/1910 (94%)]\tLoss: 0.026694\n",
            "\n",
            "Test set: Average loss: -0.2766, Accuracy: 542/547 (99%)\n",
            "\n",
            "epoch: 10\n",
            "Train Epoch: 10 [0/1910 (0%)]\tLoss: 0.045347\n",
            "Train Epoch: 10 [300/1910 (16%)]\tLoss: 0.027422\n",
            "Train Epoch: 10 [600/1910 (31%)]\tLoss: 0.103552\n",
            "Train Epoch: 10 [900/1910 (47%)]\tLoss: 0.021295\n",
            "Train Epoch: 10 [1200/1910 (62%)]\tLoss: 0.011310\n",
            "Train Epoch: 10 [1500/1910 (78%)]\tLoss: 0.014005\n",
            "Train Epoch: 10 [1800/1910 (94%)]\tLoss: 0.011139\n",
            "\n",
            "Test set: Average loss: -0.2786, Accuracy: 543/547 (99%)\n",
            "\n",
            "epoch: 11\n",
            "Train Epoch: 11 [0/1910 (0%)]\tLoss: 0.019135\n",
            "Train Epoch: 11 [300/1910 (16%)]\tLoss: 0.010967\n",
            "Train Epoch: 11 [600/1910 (31%)]\tLoss: 0.020249\n",
            "Train Epoch: 11 [900/1910 (47%)]\tLoss: 0.005531\n",
            "Train Epoch: 11 [1200/1910 (62%)]\tLoss: 0.032996\n",
            "Train Epoch: 11 [1500/1910 (78%)]\tLoss: 0.012045\n",
            "Train Epoch: 11 [1800/1910 (94%)]\tLoss: 0.009053\n",
            "\n",
            "Test set: Average loss: -0.2857, Accuracy: 542/547 (99%)\n",
            "\n",
            "epoch: 12\n",
            "Train Epoch: 12 [0/1910 (0%)]\tLoss: 0.011249\n",
            "Train Epoch: 12 [300/1910 (16%)]\tLoss: 0.027718\n",
            "Train Epoch: 12 [600/1910 (31%)]\tLoss: 0.014108\n",
            "Train Epoch: 12 [900/1910 (47%)]\tLoss: 0.006284\n",
            "Train Epoch: 12 [1200/1910 (62%)]\tLoss: 0.042809\n",
            "Train Epoch: 12 [1500/1910 (78%)]\tLoss: 0.008829\n",
            "Train Epoch: 12 [1800/1910 (94%)]\tLoss: 0.011109\n",
            "\n",
            "Test set: Average loss: -0.2865, Accuracy: 543/547 (99%)\n",
            "\n",
            "epoch: 13\n",
            "Train Epoch: 13 [0/1910 (0%)]\tLoss: 0.056633\n",
            "Train Epoch: 13 [300/1910 (16%)]\tLoss: 0.009100\n",
            "Train Epoch: 13 [600/1910 (31%)]\tLoss: 0.023155\n",
            "Train Epoch: 13 [900/1910 (47%)]\tLoss: 0.036881\n",
            "Train Epoch: 13 [1200/1910 (62%)]\tLoss: 0.030787\n",
            "Train Epoch: 13 [1500/1910 (78%)]\tLoss: 0.017721\n",
            "Train Epoch: 13 [1800/1910 (94%)]\tLoss: 0.076792\n",
            "\n",
            "Test set: Average loss: -0.2869, Accuracy: 543/547 (99%)\n",
            "\n",
            "epoch: 14\n",
            "Train Epoch: 14 [0/1910 (0%)]\tLoss: 0.007255\n",
            "Train Epoch: 14 [300/1910 (16%)]\tLoss: 0.015631\n",
            "Train Epoch: 14 [600/1910 (31%)]\tLoss: 0.007853\n",
            "Train Epoch: 14 [900/1910 (47%)]\tLoss: 0.006160\n",
            "Train Epoch: 14 [1200/1910 (62%)]\tLoss: 0.008077\n",
            "Train Epoch: 14 [1500/1910 (78%)]\tLoss: 0.012802\n",
            "Train Epoch: 14 [1800/1910 (94%)]\tLoss: 0.012857\n",
            "\n",
            "Test set: Average loss: -0.2873, Accuracy: 543/547 (99%)\n",
            "\n",
            "epoch: 15\n",
            "Train Epoch: 15 [0/1910 (0%)]\tLoss: 0.008781\n",
            "Train Epoch: 15 [300/1910 (16%)]\tLoss: 0.017248\n",
            "Train Epoch: 15 [600/1910 (31%)]\tLoss: 0.014657\n",
            "Train Epoch: 15 [900/1910 (47%)]\tLoss: 0.008085\n",
            "Train Epoch: 15 [1200/1910 (62%)]\tLoss: 0.017273\n",
            "Train Epoch: 15 [1500/1910 (78%)]\tLoss: 0.010309\n",
            "Train Epoch: 15 [1800/1910 (94%)]\tLoss: 0.006450\n",
            "\n",
            "Test set: Average loss: -0.2894, Accuracy: 543/547 (99%)\n",
            "\n",
            "epoch: 16\n",
            "Train Epoch: 16 [0/1910 (0%)]\tLoss: 0.010246\n",
            "Train Epoch: 16 [300/1910 (16%)]\tLoss: 0.005451\n",
            "Train Epoch: 16 [600/1910 (31%)]\tLoss: 0.011183\n",
            "Train Epoch: 16 [900/1910 (47%)]\tLoss: 0.019171\n",
            "Train Epoch: 16 [1200/1910 (62%)]\tLoss: 0.006155\n",
            "Train Epoch: 16 [1500/1910 (78%)]\tLoss: 0.007082\n",
            "Train Epoch: 16 [1800/1910 (94%)]\tLoss: 0.022568\n",
            "\n",
            "Test set: Average loss: -0.2907, Accuracy: 543/547 (99%)\n",
            "\n",
            "epoch: 17\n",
            "Train Epoch: 17 [0/1910 (0%)]\tLoss: 0.011443\n",
            "Train Epoch: 17 [300/1910 (16%)]\tLoss: 0.037832\n",
            "Train Epoch: 17 [600/1910 (31%)]\tLoss: 0.006891\n",
            "Train Epoch: 17 [900/1910 (47%)]\tLoss: 0.006795\n",
            "Train Epoch: 17 [1200/1910 (62%)]\tLoss: 0.021374\n",
            "Train Epoch: 17 [1500/1910 (78%)]\tLoss: 0.021738\n",
            "Train Epoch: 17 [1800/1910 (94%)]\tLoss: 0.013286\n",
            "\n",
            "Test set: Average loss: -0.2922, Accuracy: 543/547 (99%)\n",
            "\n",
            "epoch: 18\n",
            "Train Epoch: 18 [0/1910 (0%)]\tLoss: 0.009061\n",
            "Train Epoch: 18 [300/1910 (16%)]\tLoss: 0.019245\n",
            "Train Epoch: 18 [600/1910 (31%)]\tLoss: 0.007751\n",
            "Train Epoch: 18 [900/1910 (47%)]\tLoss: 0.006424\n",
            "Train Epoch: 18 [1200/1910 (62%)]\tLoss: 0.018305\n",
            "Train Epoch: 18 [1500/1910 (78%)]\tLoss: 0.007103\n",
            "Train Epoch: 18 [1800/1910 (94%)]\tLoss: 0.007679\n",
            "\n",
            "Test set: Average loss: -0.2918, Accuracy: 543/547 (99%)\n",
            "\n",
            "epoch: 19\n",
            "Train Epoch: 19 [0/1910 (0%)]\tLoss: 0.012668\n",
            "Train Epoch: 19 [300/1910 (16%)]\tLoss: 0.028441\n",
            "Train Epoch: 19 [600/1910 (31%)]\tLoss: 0.015519\n",
            "Train Epoch: 19 [900/1910 (47%)]\tLoss: 0.036357\n",
            "Train Epoch: 19 [1200/1910 (62%)]\tLoss: 0.007110\n",
            "Train Epoch: 19 [1500/1910 (78%)]\tLoss: 0.018940\n",
            "Train Epoch: 19 [1800/1910 (94%)]\tLoss: 0.011936\n",
            "\n",
            "Test set: Average loss: -0.2894, Accuracy: 543/547 (99%)\n",
            "\n",
            "epoch: 20\n",
            "Train Epoch: 20 [0/1910 (0%)]\tLoss: 0.006662\n",
            "Train Epoch: 20 [300/1910 (16%)]\tLoss: 0.145774\n",
            "Train Epoch: 20 [600/1910 (31%)]\tLoss: 0.007285\n",
            "Train Epoch: 20 [900/1910 (47%)]\tLoss: 0.020628\n",
            "Train Epoch: 20 [1200/1910 (62%)]\tLoss: 0.018066\n",
            "Train Epoch: 20 [1500/1910 (78%)]\tLoss: 0.009812\n",
            "Train Epoch: 20 [1800/1910 (94%)]\tLoss: 0.011128\n",
            "\n",
            "Test set: Average loss: -0.2884, Accuracy: 543/547 (99%)\n",
            "\n"
          ],
          "name": "stdout"
        }
      ]
    },
    {
      "cell_type": "code",
      "metadata": {
        "colab": {
          "base_uri": "https://localhost:8080/"
        },
        "id": "y5AiHflt6sBO",
        "outputId": "45010b4f-8353-4044-e9bf-75cad17f090b"
      },
      "source": [
        "validation_loss, validation_accuracy = test(model, device, test_loader)"
      ],
      "execution_count": null,
      "outputs": [
        {
          "output_type": "stream",
          "text": [
            "\n",
            "Test set: Average loss: -0.3091, Accuracy: 269/272 (99%)\n",
            "\n"
          ],
          "name": "stdout"
        }
      ]
    },
    {
      "cell_type": "code",
      "metadata": {
        "id": "z_Yo_14O7JV6"
      },
      "source": [
        "#modify the test function to record and return the number of correct predictions for each class\n",
        "def final_test(model, device, test_loader):\n",
        "    model.eval()\n",
        "    test_loss = 0\n",
        "    correct = 0\n",
        "    number_of_each_class = dict(zip([i for i in range(0,14)],[0]*14))\n",
        "    number_of_correct_pred = dict(zip([i for i in range(0,14)],[0]*14))\n",
        "    with torch.no_grad():\n",
        "        for data, target in test_loader:\n",
        "            data, target = data.to(device), target.to(device)\n",
        "            batch_size = data.size()[0]\n",
        "            y_pred = model(data)\n",
        "            criterion = torch.nn.NLLLoss()\n",
        "            loss = criterion(y_pred, target) \n",
        "            test_loss += loss\n",
        "            #number of correct predictions\n",
        "            y_pred = y_pred.cpu()\n",
        "            target = target.cpu()\n",
        "            correct += np.sum(np.array(np.argmax(y_pred,axis=1))==np.array(target)) \n",
        "            for i in range(0,14):\n",
        "                mask = np.array(target) == i\n",
        "                number_of_each_class[i] = number_of_each_class[i] + np.sum(mask)\n",
        "                result = np.array(np.argmax(y_pred,axis=1))==np.array(target)\n",
        "                number_of_correct_pred[i] = number_of_correct_pred[i] + np.sum(result[mask])\n",
        " \n",
        "    test_loss /= len(test_loader.dataset)\n",
        "    print('\\nTest set: Average loss: {:.4f}, Accuracy: {}/{} ({:.0f}%)\\n'.format(\n",
        "        test_loss, correct, len(test_loader.dataset),\n",
        "        100. * correct / len(test_loader.dataset)))\n",
        "    return test_loss, 100. * correct / len(test_loader.dataset),number_of_each_class,number_of_correct_pred"
      ],
      "execution_count": null,
      "outputs": []
    },
    {
      "cell_type": "code",
      "metadata": {
        "colab": {
          "base_uri": "https://localhost:8080/"
        },
        "id": "G54XaUTs7J7I",
        "outputId": "f868805c-d1b5-4fe0-97d4-c08c3d3c30b4"
      },
      "source": [
        "validation_loss, validation_accuracy,a,b = final_test(model, device, test_loader)"
      ],
      "execution_count": null,
      "outputs": [
        {
          "output_type": "stream",
          "text": [
            "\n",
            "Test set: Average loss: -0.3094, Accuracy: 269/272 (99%)\n",
            "\n"
          ],
          "name": "stdout"
        }
      ]
    },
    {
      "cell_type": "code",
      "metadata": {
        "colab": {
          "base_uri": "https://localhost:8080/",
          "height": 537
        },
        "id": "94hQziHO64LS",
        "outputId": "da6befe1-f2e4-4023-9a58-80c6ddc33e19"
      },
      "source": [
        "class_wise_accuracy = []\n",
        "classes = range(1,15)\n",
        "for i in range(0,14):\n",
        "    class_i_accuracy = b[i]/a[1]\n",
        "    class_wise_accuracy.append(class_i_accuracy)\n",
        "plt.plot(classes,class_wise_accuracy, color='blue',marker='o', label='Class wise accuracy')\n",
        "plt.bar(classes,class_wise_accuracy)\n",
        "plt.legend()\n",
        "plt.title(\"Class-wise accuracy on test set\")\n",
        "plt.xlabel('Class')\n",
        "plt.ylim(0.3, 1)\n",
        "plt.ylabel('Accuracy')        \n",
        "plt.show()\n",
        "labels_map"
      ],
      "execution_count": null,
      "outputs": [
        {
          "output_type": "display_data",
          "data": {
            "image/png": "[encoded data removed]",
            "text/plain": [
              "<Figure size 432x288 with 1 Axes>"
            ]
          },
          "metadata": {
            "tags": [],
            "needs_background": "light"
          }
        },
        {
          "output_type": "execute_result",
          "data": {
            "text/plain": [
              "{0: 'apple',\n",
              " 1: 'banana',\n",
              " 2: 'chip',\n",
              " 3: 'coin',\n",
              " 4: 'epic coin',\n",
              " 5: 'epic fish',\n",
              " 6: 'zombie eye',\n",
              " 7: 'fish',\n",
              " 8: 'life potion',\n",
              " 9: 'mermaid',\n",
              " 10: 'dragon scale',\n",
              " 11: 'ruby',\n",
              " 12: 'unicorn',\n",
              " 13: 'wolf skin'}"
            ]
          },
          "metadata": {
            "tags": []
          },
          "execution_count": 148
        }
      ]
    },
    {
      "cell_type": "code",
      "metadata": {
        "id": "jtUbDaArkwZj"
      },
      "source": [
        "import cv2\n",
        "image_path = '/content/drive/MyDrive/epic/new images/2.png'\n",
        "image_array = cv2.imread(image_path)\n",
        "image_tensor = data_transform(image_array)"
      ],
      "execution_count": null,
      "outputs": []
    },
    {
      "cell_type": "code",
      "metadata": {
        "colab": {
          "base_uri": "https://localhost:8080/",
          "height": 164
        },
        "id": "zSjzeIKUo5G9",
        "outputId": "99df47e8-4caf-4f76-d7a1-bc2e9a42cd6e"
      },
      "source": [
        "plt.imshow(image_array)"
      ],
      "execution_count": null,
      "outputs": [
        {
          "output_type": "execute_result",
          "data": {
            "text/plain": [
              "<matplotlib.image.AxesImage at 0x7f53397b9050>"
            ]
          },
          "metadata": {
            "tags": []
          },
          "execution_count": 79
        },
        {
          "output_type": "display_data",
          "data": {
            "image/png": "[encoded data removed]",
            "text/plain": [
              "<Figure size 432x288 with 1 Axes>"
            ]
          },
          "metadata": {
            "tags": [],
            "needs_background": "light"
          }
        }
      ]
    },
    {
      "cell_type": "code",
      "metadata": {
        "colab": {
          "base_uri": "https://localhost:8080/"
        },
        "id": "iFks8kAnqDp9",
        "outputId": "7e16114f-2ee4-47a2-f168-a1f40df5b4ca"
      },
      "source": [
        "image_array.shape"
      ],
      "execution_count": null,
      "outputs": [
        {
          "output_type": "execute_result",
          "data": {
            "text/plain": [
              "(200, 700, 3)"
            ]
          },
          "metadata": {
            "tags": []
          },
          "execution_count": 80
        }
      ]
    },
    {
      "cell_type": "code",
      "metadata": {
        "colab": {
          "base_uri": "https://localhost:8080/"
        },
        "id": "Z2eEPrGBgYDa",
        "outputId": "4849aa75-6cee-4ebe-c2ae-b1e71bb36fb6"
      },
      "source": [
        "res = resnet18(num_classes=14)\n",
        "res.load_state_dict(torch.load('/content/drive/MyDrive/epic/epic_resnet18.pt'))\n",
        "res.eval()\n"
      ],
      "execution_count": null,
      "outputs": [
        {
          "output_type": "execute_result",
          "data": {
            "text/plain": [
              "ResNet(\n",
              "  (conv1): Conv2d(3, 64, kernel_size=(7, 7), stride=(2, 2), padding=(3, 3), bias=False)\n",
              "  (bn1): BatchNorm2d(64, eps=1e-05, momentum=0.1, affine=True, track_running_stats=True)\n",
              "  (relu): ReLU(inplace=True)\n",
              "  (maxpool): MaxPool2d(kernel_size=3, stride=2, padding=1, dilation=1, ceil_mode=False)\n",
              "  (layer1): Sequential(\n",
              "    (0): BasicBlock(\n",
              "      (conv1): Conv2d(64, 64, kernel_size=(3, 3), stride=(1, 1), padding=(1, 1), bias=False)\n",
              "      (bn1): BatchNorm2d(64, eps=1e-05, momentum=0.1, affine=True, track_running_stats=True)\n",
              "      (relu): ReLU(inplace=True)\n",
              "      (conv2): Conv2d(64, 64, kernel_size=(3, 3), stride=(1, 1), padding=(1, 1), bias=False)\n",
              "      (bn2): BatchNorm2d(64, eps=1e-05, momentum=0.1, affine=True, track_running_stats=True)\n",
              "    )\n",
              "    (1): BasicBlock(\n",
              "      (conv1): Conv2d(64, 64, kernel_size=(3, 3), stride=(1, 1), padding=(1, 1), bias=False)\n",
              "      (bn1): BatchNorm2d(64, eps=1e-05, momentum=0.1, affine=True, track_running_stats=True)\n",
              "      (relu): ReLU(inplace=True)\n",
              "      (conv2): Conv2d(64, 64, kernel_size=(3, 3), stride=(1, 1), padding=(1, 1), bias=False)\n",
              "      (bn2): BatchNorm2d(64, eps=1e-05, momentum=0.1, affine=True, track_running_stats=True)\n",
              "    )\n",
              "  )\n",
              "  (layer2): Sequential(\n",
              "    (0): BasicBlock(\n",
              "      (conv1): Conv2d(64, 128, kernel_size=(3, 3), stride=(2, 2), padding=(1, 1), bias=False)\n",
              "      (bn1): BatchNorm2d(128, eps=1e-05, momentum=0.1, affine=True, track_running_stats=True)\n",
              "      (relu): ReLU(inplace=True)\n",
              "      (conv2): Conv2d(128, 128, kernel_size=(3, 3), stride=(1, 1), padding=(1, 1), bias=False)\n",
              "      (bn2): BatchNorm2d(128, eps=1e-05, momentum=0.1, affine=True, track_running_stats=True)\n",
              "      (downsample): Sequential(\n",
              "        (0): Conv2d(64, 128, kernel_size=(1, 1), stride=(2, 2), bias=False)\n",
              "        (1): BatchNorm2d(128, eps=1e-05, momentum=0.1, affine=True, track_running_stats=True)\n",
              "      )\n",
              "    )\n",
              "    (1): BasicBlock(\n",
              "      (conv1): Conv2d(128, 128, kernel_size=(3, 3), stride=(1, 1), padding=(1, 1), bias=False)\n",
              "      (bn1): BatchNorm2d(128, eps=1e-05, momentum=0.1, affine=True, track_running_stats=True)\n",
              "      (relu): ReLU(inplace=True)\n",
              "      (conv2): Conv2d(128, 128, kernel_size=(3, 3), stride=(1, 1), padding=(1, 1), bias=False)\n",
              "      (bn2): BatchNorm2d(128, eps=1e-05, momentum=0.1, affine=True, track_running_stats=True)\n",
              "    )\n",
              "  )\n",
              "  (layer3): Sequential(\n",
              "    (0): BasicBlock(\n",
              "      (conv1): Conv2d(128, 256, kernel_size=(3, 3), stride=(2, 2), padding=(1, 1), bias=False)\n",
              "      (bn1): BatchNorm2d(256, eps=1e-05, momentum=0.1, affine=True, track_running_stats=True)\n",
              "      (relu): ReLU(inplace=True)\n",
              "      (conv2): Conv2d(256, 256, kernel_size=(3, 3), stride=(1, 1), padding=(1, 1), bias=False)\n",
              "      (bn2): BatchNorm2d(256, eps=1e-05, momentum=0.1, affine=True, track_running_stats=True)\n",
              "      (downsample): Sequential(\n",
              "        (0): Conv2d(128, 256, kernel_size=(1, 1), stride=(2, 2), bias=False)\n",
              "        (1): BatchNorm2d(256, eps=1e-05, momentum=0.1, affine=True, track_running_stats=True)\n",
              "      )\n",
              "    )\n",
              "    (1): BasicBlock(\n",
              "      (conv1): Conv2d(256, 256, kernel_size=(3, 3), stride=(1, 1), padding=(1, 1), bias=False)\n",
              "      (bn1): BatchNorm2d(256, eps=1e-05, momentum=0.1, affine=True, track_running_stats=True)\n",
              "      (relu): ReLU(inplace=True)\n",
              "      (conv2): Conv2d(256, 256, kernel_size=(3, 3), stride=(1, 1), padding=(1, 1), bias=False)\n",
              "      (bn2): BatchNorm2d(256, eps=1e-05, momentum=0.1, affine=True, track_running_stats=True)\n",
              "    )\n",
              "  )\n",
              "  (layer4): Sequential(\n",
              "    (0): BasicBlock(\n",
              "      (conv1): Conv2d(256, 512, kernel_size=(3, 3), stride=(2, 2), padding=(1, 1), bias=False)\n",
              "      (bn1): BatchNorm2d(512, eps=1e-05, momentum=0.1, affine=True, track_running_stats=True)\n",
              "      (relu): ReLU(inplace=True)\n",
              "      (conv2): Conv2d(512, 512, kernel_size=(3, 3), stride=(1, 1), padding=(1, 1), bias=False)\n",
              "      (bn2): BatchNorm2d(512, eps=1e-05, momentum=0.1, affine=True, track_running_stats=True)\n",
              "      (downsample): Sequential(\n",
              "        (0): Conv2d(256, 512, kernel_size=(1, 1), stride=(2, 2), bias=False)\n",
              "        (1): BatchNorm2d(512, eps=1e-05, momentum=0.1, affine=True, track_running_stats=True)\n",
              "      )\n",
              "    )\n",
              "    (1): BasicBlock(\n",
              "      (conv1): Conv2d(512, 512, kernel_size=(3, 3), stride=(1, 1), padding=(1, 1), bias=False)\n",
              "      (bn1): BatchNorm2d(512, eps=1e-05, momentum=0.1, affine=True, track_running_stats=True)\n",
              "      (relu): ReLU(inplace=True)\n",
              "      (conv2): Conv2d(512, 512, kernel_size=(3, 3), stride=(1, 1), padding=(1, 1), bias=False)\n",
              "      (bn2): BatchNorm2d(512, eps=1e-05, momentum=0.1, affine=True, track_running_stats=True)\n",
              "    )\n",
              "  )\n",
              "  (avgpool): AdaptiveAvgPool2d(output_size=(1, 1))\n",
              "  (fc): Linear(in_features=512, out_features=14, bias=True)\n",
              ")"
            ]
          },
          "metadata": {
            "tags": []
          },
          "execution_count": 50
        }
      ]
    },
    {
      "cell_type": "code",
      "metadata": {
        "colab": {
          "base_uri": "https://localhost:8080/"
        },
        "id": "a1B3r400sG8z",
        "outputId": "abad1365-e201-49e3-e7e0-d601f1b5697e"
      },
      "source": [
        "tf.shape(image_tensor)"
      ],
      "execution_count": null,
      "outputs": [
        {
          "output_type": "execute_result",
          "data": {
            "text/plain": [
              "<tf.Tensor: shape=(3,), dtype=int32, numpy=array([  3, 200, 200], dtype=int32)>"
            ]
          },
          "metadata": {
            "tags": []
          },
          "execution_count": 63
        }
      ]
    },
    {
      "cell_type": "code",
      "metadata": {
        "colab": {
          "base_uri": "https://localhost:8080/"
        },
        "id": "fApTRN6itgYD",
        "outputId": "19f737f3-c7aa-4e38-9b3d-8490327e6056"
      },
      "source": [
        ""
      ],
      "execution_count": null,
      "outputs": [
        {
          "output_type": "execute_result",
          "data": {
            "text/plain": [
              "tensor([[[-0.9450, -0.9450, -0.9450,  ..., -0.9450, -0.9450, -0.9450],\n",
              "         [-0.9450, -0.9450, -0.9450,  ..., -0.9450, -0.9450, -0.9450],\n",
              "         [-0.9450, -0.9450, -0.9450,  ..., -0.9450, -0.9450, -0.9450],\n",
              "         ...,\n",
              "         [-0.9450, -0.9450, -0.9450,  ..., -0.9450, -0.9450, -0.9450],\n",
              "         [-0.9450, -0.9450, -0.9450,  ..., -0.9450, -0.9450, -0.9450],\n",
              "         [-0.9450, -0.9450, -0.9450,  ..., -0.9450, -0.9450, -0.9450]],\n",
              "\n",
              "        [[-0.9450, -0.9450, -0.9450,  ..., -0.9450, -0.9450, -0.9450],\n",
              "         [-0.9450, -0.9450, -0.9450,  ..., -0.9450, -0.9450, -0.9450],\n",
              "         [-0.9450, -0.9450, -0.9450,  ..., -0.9450, -0.9450, -0.9450],\n",
              "         ...,\n",
              "         [-0.9450, -0.9450, -0.9450,  ..., -0.9450, -0.9450, -0.9450],\n",
              "         [-0.9450, -0.9450, -0.9450,  ..., -0.9450, -0.9450, -0.9450],\n",
              "         [-0.9450, -0.9450, -0.9450,  ..., -0.9450, -0.9450, -0.9450]],\n",
              "\n",
              "        [[-0.9450, -0.9450, -0.9450,  ..., -0.9450, -0.9450, -0.9450],\n",
              "         [-0.9450, -0.9450, -0.9450,  ..., -0.9450, -0.9450, -0.9450],\n",
              "         [-0.9450, -0.9450, -0.9450,  ..., -0.9450, -0.9450, -0.9450],\n",
              "         ...,\n",
              "         [-0.9450, -0.9450, -0.9450,  ..., -0.9450, -0.9450, -0.9450],\n",
              "         [-0.9450, -0.9450, -0.9450,  ..., -0.9450, -0.9450, -0.9450],\n",
              "         [-0.9450, -0.9450, -0.9450,  ..., -0.9450, -0.9450, -0.9450]]])"
            ]
          },
          "metadata": {
            "tags": []
          },
          "execution_count": 62
        }
      ]
    },
    {
      "cell_type": "code",
      "metadata": {
        "id": "lia8I5Qmt7am"
      },
      "source": [
        "image_tensor1 = torch.unsqueeze(image_tensor,0)"
      ],
      "execution_count": null,
      "outputs": []
    },
    {
      "cell_type": "code",
      "metadata": {
        "id": "H2lnjqIvzedc"
      },
      "source": [
        "labels_map = {\n",
        "    0: \"apple\",\n",
        "    1: \"banana\",\n",
        "    2: \"chip\",\n",
        "    3: \"coin\",\n",
        "    4: \"epic coin\",\n",
        "    5: \"epic fish\",\n",
        "    6: \"zombie eye\",\n",
        "    7: \"fish\",\n",
        "    8: \"life potion\",\n",
        "    9: \"mermaid\",\n",
        "    10: \"dragon scale\",\n",
        "    11:\"ruby\",\n",
        "    12:\"unicorn\",\n",
        "    13:\"wolf skin\"\n",
        "}"
      ],
      "execution_count": null,
      "outputs": []
    },
    {
      "cell_type": "code",
      "metadata": {
        "colab": {
          "base_uri": "https://localhost:8080/",
          "height": 34
        },
        "id": "DCuqJjirrocG",
        "outputId": "dd505fe5-7832-45e4-84d5-97735435a22b"
      },
      "source": [
        "labels_map[np.argmax(res(image_tensor1).detach().numpy())]"
      ],
      "execution_count": null,
      "outputs": [
        {
          "output_type": "execute_result",
          "data": {
            "application/vnd.google.colaboratory.intrinsic+json": {
              "type": "string"
            },
            "text/plain": [
              "'epic coin'"
            ]
          },
          "metadata": {
            "tags": []
          },
          "execution_count": 82
        }
      ]
    },
    {
      "cell_type": "code",
      "metadata": {
        "colab": {
          "base_uri": "https://localhost:8080/",
          "height": 198
        },
        "id": "CnCswX_mrxKL",
        "outputId": "f7dc8b1b-6ca0-482f-8679-aa051d258824"
      },
      "source": [
        "import cv2\n",
        "image_path = '/content/drive/MyDrive/epic/new images/epic_guard-38.png'\n",
        "image_array = cv2.imread(image_path)\n",
        "image_tensor = data_transform(image_array)\n",
        "plt.imshow(image_array)\n",
        "image_tensor1 = torch.unsqueeze(image_tensor,0)\n",
        "for i in list(np.argsort(res(image_tensor1).detach().numpy())[0][-3:]):\n",
        "  print(labels_map[i])"
      ],
      "execution_count": null,
      "outputs": [
        {
          "output_type": "stream",
          "text": [
            "ruby\n",
            "coin\n",
            "epic coin\n"
          ],
          "name": "stdout"
        },
        {
          "output_type": "display_data",
          "data": {
            "image/png": "[encoded data removed]",
            "text/plain": [
              "<Figure size 432x288 with 1 Axes>"
            ]
          },
          "metadata": {
            "tags": [],
            "needs_background": "light"
          }
        }
      ]
    },
    {
      "cell_type": "code",
      "metadata": {
        "id": "kw9wGYA_3RRV"
      },
      "source": [
        ""
      ],
      "execution_count": null,
      "outputs": []
    }
  ]
}